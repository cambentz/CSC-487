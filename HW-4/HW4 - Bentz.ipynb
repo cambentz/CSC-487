{
  "cells": [
    {
      "cell_type": "markdown",
      "metadata": {
        "id": "rj2DWDdaIEGp"
      },
      "source": [
        "#### **CSC487 - Advanced Data Mining - HW4**\n",
        "*Cameron Bentz*\n",
        "\n",
        "[Colab Link](https://colab.research.google.com/drive/1E3tph05hhREfMCWqNGxb88WKlNzrmZ48?usp=sharing)"
      ]
    },
    {
      "cell_type": "markdown",
      "metadata": {
        "id": "tuQABdX8IOuH"
      },
      "source": [
        "##### **Question 1**\n",
        "\n",
        "| department |  age  | salary  | status | count |\n",
        "| ---------- | ----- | ------- | ------ | ----- |\n",
        "| sales      | 31_35 | 46K_50K | senior | 30    |\n",
        "| sales      | 26_30 | 26K_30K | junior | 40    |\n",
        "| systems    | 21_25 | 46K_50K | junior | 20    |\n",
        "| systems    | 31_35 | 66K_70K | senior | 5     |\n",
        "| systems    | 26_30 | 46K_50K | junior | 3     |\n",
        "| systems    | 41_45 | 66K_70K | senior | 3     |\n",
        "| marketing  | 36_40 | 46K_50K | senior | 10    |\n",
        "| marketing  | 31_35 | 41K_45K | junior | 4     |\n",
        "| secretary  | 46_50 | 36K_40K | senior | 4     |\n",
        "| secretary  | 26_30 | 26K_30K | junior | 6     |\n",
        "\n",
        "Given a data tuple having the values \"Systems\", \"26_30\", and \"46K_50K\" for the attributes department, age, and salary, respectively, what would a native Bayesian classification of the status according to the data above? Notice that *Count* column is **NOT** an attribute. It just tells how many times a row occurs in our database and *status* is our target variable."
      ]
    },
    {
      "cell_type": "markdown",
      "metadata": {
        "id": "Zo_-GEs7IRda"
      },
      "source": [
        "**Tuple**\n",
        "- **department**: systems\n",
        "- **age**: 26_30\n",
        "- **salary**: 46K_50K\n",
        "\n",
        "Classify **status** as either `junior` or `senior`.\n",
        "\n",
        "Formula: $P(A \\mid B) = \\frac{P(B \\mid A) \\cdot P(A)}{P(B)}$\n",
        "\n",
        "#### Step 1: Get the prior probabilities\n",
        "\n",
        "- **total count:**\n",
        "30 + 40 + 40 + 20 + 5 + 3 + 3 + 10 + 4 + 4 + 6 = 165\n",
        "\n",
        "- **P(junior):**\n",
        "(40 + 40 + 20 + 3 + 4 + 6) / 165 = $\\frac {113} {165}$\n",
        "\n",
        "- **P(senior):**\n",
        "(30 + 5 + 3 + 10 + 4) / 165 = $\\frac {52} {165}$\n",
        "\n",
        "#### Step 2: Calculate likelihoods\n",
        "\n",
        "##### department = systems\n",
        "\n",
        "- P(department=systems | junior) = $\\frac {20 + 3} {123}$ = $\\frac {23} {123}$\n",
        "\n",
        "- P(department=systems | senior) = $\\frac {5 + 3} {52}$ = $\\frac {8} {52}$\n",
        "\n",
        "##### age = 26_30\n",
        "\n",
        "- P(age=26_30 | junior) = $\\frac {40 + 3 + 6} {113}$ = $\\frac {49} {113}$\n",
        "\n",
        "- P(age=26_30 | senior) = $\\frac {0} {52}$ = 0\n",
        "\n",
        "##### salary = 46K_50K\n",
        "\n",
        "- P(salary=46K_50K | junior) = $\\frac {20} {113}$\n",
        "\n",
        "- P(age=26_30 | junior) = $\\frac {30 + 10} {52}$ = $\\frac {40} {52}$\n",
        "\n",
        "#### Step 3: Bayes calculation\n",
        "\n",
        "- **P(junior | tuple)**\n",
        "\n",
        "$(\\frac {113} {165}) \\cdot (\\frac {23} {113}) \\cdot (\\frac {49} {113}) \\cdot (\\frac {20} {113})$\n",
        "\n",
        "- **P(senior | tuple)**\n",
        "\n",
        "$(\\frac {52} {165}) \\cdot (\\frac {8} {52}) \\cdot 0 \\cdot (\\frac {40} {52})$ = `0`\n",
        "\n",
        "The senior class has a zero probability because there are no seniors with age '26__30'.\n",
        "\n",
        "#### Therefore: The predicted class is `junior`"
      ]
    },
    {
      "cell_type": "markdown",
      "metadata": {
        "id": "fa9z_9JRIWda"
      },
      "source": [
        "##### **Question 2**\n",
        "\n",
        "Split your diabetes data into two parts for training and testing purposes. Namely, reserve last 10 rows of the diabetes_train.csv for the test set. Then fit a SVM classifier on the bigger portion of thie data and test it on these 10 rows you had reserved. Please feel free to modify existing codes. Notice that you're not going to read diabetes_test.csv anymore since you're going to split the bigger data."
      ]
    },
    {
      "cell_type": "code",
      "execution_count": 1,
      "metadata": {
        "colab": {
          "base_uri": "https://localhost:8080/"
        },
        "id": "oGLD5FVOJaVe",
        "outputId": "cc50a338-77fa-4bdf-e71c-de7475f7e23c"
      },
      "outputs": [
        {
          "name": "stdout",
          "output_type": "stream",
          "text": [
            "Drive already mounted at /content/drive; to attempt to forcibly remount, call drive.mount(\"/content/drive\", force_remount=True).\n"
          ]
        }
      ],
      "source": [
        "from google.colab import drive\n",
        "drive.mount('/content/drive')"
      ]
    },
    {
      "cell_type": "markdown",
      "metadata": {
        "id": "MVuTstLeIZEU"
      },
      "source": [
        "##### Imports"
      ]
    },
    {
      "cell_type": "code",
      "execution_count": 2,
      "metadata": {
        "id": "Cr4wPdB3IUVQ"
      },
      "outputs": [],
      "source": [
        "import pandas as pd\n",
        "import numpy as np\n",
        "from sklearn import svm\n",
        "from sklearn.metrics import accuracy_score"
      ]
    },
    {
      "cell_type": "markdown",
      "metadata": {
        "id": "KPdFAdbSKhkz"
      },
      "source": [
        "##### Data manipulation"
      ]
    },
    {
      "cell_type": "code",
      "execution_count": 3,
      "metadata": {
        "id": "Pmyt_7n2Ju7Z"
      },
      "outputs": [],
      "source": [
        "diabetes = pd.read_csv('/content/drive/MyDrive/DATA/diabetes_train.csv')\n",
        "\n",
        "# remove class\n",
        "X = diabetes.iloc[:,:-1]\n",
        "y = diabetes.iloc[:,-1]\n",
        "\n",
        "# split data\n",
        "X_train, X_test = X.iloc[:-10], X.iloc[-10:]\n",
        "y_train, y_test = y.iloc[:-10], y.iloc[-10:]"
      ]
    },
    {
      "cell_type": "markdown",
      "metadata": {
        "id": "xKDftWjJX63a"
      },
      "source": [
        "##### SVM"
      ]
    },
    {
      "cell_type": "code",
      "execution_count": 22,
      "metadata": {
        "colab": {
          "base_uri": "https://localhost:8080/"
        },
        "id": "n7RqwMhvKpdX",
        "outputId": "9fdf5b65-c768-4972-a112-020cbdc7bc24"
      },
      "outputs": [
        {
          "name": "stdout",
          "output_type": "stream",
          "text": [
            "Kernel: rbf, C: 0.1, Gamma: 0.0001, Accuracy: 0.7000\n",
            "Kernel: rbf, C: 0.1, Gamma: 0.01, Accuracy: 0.3000\n",
            "Kernel: rbf, C: 0.1, Gamma: 0.1, Accuracy: 0.3000\n",
            "Kernel: rbf, C: 10, Gamma: 0.0001, Accuracy: 0.7000\n",
            "Kernel: rbf, C: 10, Gamma: 0.01, Accuracy: 0.6000\n",
            "Kernel: rbf, C: 10, Gamma: 0.1, Accuracy: 0.3000\n",
            "Kernel: rbf, C: 100, Gamma: 0.0001, Accuracy: 0.6000\n",
            "Kernel: rbf, C: 100, Gamma: 0.01, Accuracy: 0.6000\n",
            "Kernel: rbf, C: 100, Gamma: 0.1, Accuracy: 0.3000\n",
            "Kernel: sigmoid, C: 0.1, Gamma: 0.0001, Accuracy: 0.3000\n",
            "Kernel: sigmoid, C: 0.1, Gamma: 0.01, Accuracy: 0.3000\n",
            "Kernel: sigmoid, C: 0.1, Gamma: 0.1, Accuracy: 0.3000\n",
            "Kernel: sigmoid, C: 10, Gamma: 0.0001, Accuracy: 0.2000\n",
            "Kernel: sigmoid, C: 10, Gamma: 0.01, Accuracy: 0.3000\n",
            "Kernel: sigmoid, C: 10, Gamma: 0.1, Accuracy: 0.3000\n",
            "Kernel: sigmoid, C: 100, Gamma: 0.0001, Accuracy: 0.2000\n",
            "Kernel: sigmoid, C: 100, Gamma: 0.01, Accuracy: 0.3000\n",
            "Kernel: sigmoid, C: 100, Gamma: 0.1, Accuracy: 0.3000\n",
            "Kernel: linear, C: 1, Gamma: scale, Accuracy: 0.8000\n",
            "\n",
            "Best Parameters: {'C': 'default', 'gamma': 'scale', 'kernel': 'linear'}\n",
            "Best Accuracy: 0.8000\n",
            "\n",
            "Predictions: ['tested_positive', 'tested_positive', 'tested_positive', 'tested_negative', 'tested_negative', 'tested_positive', 'tested_positive', 'tested_negative', 'tested_negative', 'tested_negative']\n",
            "Actual: ['tested_positive', 'tested_positive', 'tested_positive', 'tested_negative', 'tested_negative', 'tested_positive', 'tested_positive', 'tested_positive', 'tested_negative', 'tested_positive']\n"
          ]
        }
      ],
      "source": [
        "# used lab 8 as guide, tested kernels, C, gamma values until highest accuracy, spent way too much time here\n",
        "\n",
        "C=[0.1, 10, 100]\n",
        "gamma = [0.0001, 0.01, 0.1]\n",
        "kernel = ['rbf', 'sigmoid']\n",
        "# poly takes too long, linear outside of loop\n",
        "\n",
        "best_accuracy = 0\n",
        "best_params = {}\n",
        "\n",
        "for k in kernel:\n",
        "  for c in C:\n",
        "    for g in gamma:\n",
        "      clf = svm.SVC(C=c, gamma=g, kernel=k, probability=True)\n",
        "      clf.fit(X_train, y_train)\n",
        "      y_pred = clf.predict(X_test)\n",
        "\n",
        "      accuracy = accuracy_score(y_test, y_pred)\n",
        "      if accuracy > best_accuracy:\n",
        "        best_accuracy = accuracy\n",
        "        best_params = {'C': c, 'gamma': g, 'kernel': k}\n",
        "        best_model = clf\n",
        "\n",
        "      print(f\"Kernel: {k}, C: {c}, Gamma: {g}, Accuracy: {accuracy:.4f}\")\n",
        "\n",
        "# test linear separately, high C values take ages\n",
        "linear_clf = svm.SVC(kernel='linear', probability=True)\n",
        "linear_clf.fit(X_train, y_train)\n",
        "linear_y_pred = linear_clf.predict(X_test)\n",
        "\n",
        "# accuracy check outside loop\n",
        "linear_accuracy = accuracy_score(y_test, linear_y_pred)\n",
        "if linear_accuracy > best_accuracy:\n",
        "  best_model = linear_clf\n",
        "  best_accuracy = linear_accuracy\n",
        "  best_params = {'C': 'default', 'gamma': 'scale', 'kernel': 'linear'}\n",
        "\n",
        "print(f\"Kernel: linear, C: 1, Gamma: scale, Accuracy: {linear_accuracy:.4f}\")\n",
        "\n",
        "# output final results\n",
        "print(f\"\\nBest Parameters: {best_params}\")\n",
        "print(f\"Best Accuracy: {best_accuracy:.4f}\")\n",
        "print(\"\\nPredictions:\", best_model.predict(X_test).tolist())\n",
        "print(\"Actual:\", y_test.tolist())"
      ]
    },
    {
      "cell_type": "markdown",
      "metadata": {
        "id": "N1EaieH_qcYl"
      },
      "source": [
        "#### Question 4\n",
        "\n",
        "Please use the data shown for questions below.\n",
        "\n",
        "|   | x1 | x2 |      \n",
        "| - | -- | -- |\n",
        "| a | 2  | 10 |\n",
        "| b | 2  | 5  |\n",
        "| c | 8  | 4  |\n",
        "| d | 5  | 8  |\n",
        "| e | 7  | 5  |\n",
        "| f | 6  | 4  |\n",
        "| g | 1  | 2  |\n",
        "| h | 4  | 9  |\n",
        "\n",
        "![Q3 chart.png](data:image/png;base64,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)"
      ]
    },
    {
      "cell_type": "markdown",
      "metadata": {
        "id": "BKOsS8k-rZZp"
      },
      "source": [
        "##### (a) If *h* and *c* are selected as the initial centers for your *k*-means clustering, assign memberships for other points, and compute the means (centroids) of your initial clusters. You can use Manhattan distance.\n"
      ]
    },
    {
      "cell_type": "markdown",
      "metadata": {
        "id": "b69qKGNNvIg6"
      },
      "source": [
        "##### Create dataframe"
      ]
    },
    {
      "cell_type": "code",
      "execution_count": 25,
      "metadata": {
        "colab": {
          "base_uri": "https://localhost:8080/"
        },
        "id": "relu4os_s56N",
        "outputId": "24e2a0aa-dc38-45cb-ce16-0fcefafdcb10"
      },
      "outputs": [
        {
          "name": "stdout",
          "output_type": "stream",
          "text": [
            "Initial Assignment:\n",
            "Cluster 1: ['a', 'b', 'd', 'h']\n",
            "Cluster 2: ['c', 'e', 'f', 'g']\n",
            "\n",
            "New Centroids:\n",
            "Cluster 1 Centroid: [3.25 8.  ]\n",
            "Cluster 2 Centroid: [5.5  3.75]\n"
          ]
        }
      ],
      "source": [
        "points = {\n",
        "    'a': [2, 10],\n",
        "    'b': [2, 5],\n",
        "    'c': [8, 4],\n",
        "    'd': [5, 8],\n",
        "    'e': [7, 5],\n",
        "    'f': [6, 4],\n",
        "    'g': [1, 2],\n",
        "    'h': [4, 9]\n",
        "}\n",
        "df = pd.DataFrame(points).T\n",
        "df.columns = ['x1', 'x2']"
      ]
    },
    {
      "cell_type": "markdown",
      "metadata": {
        "id": "DP6Y6kWtvUZs"
      },
      "source": [
        "##### Initial clusters"
      ]
    },
    {
      "cell_type": "code",
      "execution_count": 28,
      "metadata": {
        "id": "dQXkwnz3vT6W"
      },
      "outputs": [],
      "source": [
        "# initial cluster centers: h and c\n",
        "centroid_1 = df.loc['h'].values  # [4, 9]\n",
        "centroid_2 = df.loc['c'].values  # [8, 4]\n",
        "\n",
        "# manhattan distance function\n",
        "def manhattan(p1, p2):\n",
        "    return np.sum(np.abs(p1 - p2))\n",
        "\n",
        "# assign points\n",
        "def assign_clusters(df, cent1, cent2):\n",
        "    clusters = {'Cluster 1': [], 'Cluster 2': []}\n",
        "    for label, coords in df.iterrows():\n",
        "        dist1 = manhattan(coords.values, cent1)\n",
        "        dist2 = manhattan(coords.values, cent2)\n",
        "        if dist1 <= dist2:\n",
        "            clusters['Cluster 1'].append(label)\n",
        "        else:\n",
        "            clusters['Cluster 2'].append(label)\n",
        "    return clusters\n",
        "\n",
        "# first assignment\n",
        "clusters = assign_clusters(df, centroid_1, centroid_2)"
      ]
    },
    {
      "cell_type": "markdown",
      "metadata": {
        "id": "7SY-rFPjvZvt"
      },
      "source": [
        "##### Compute new centroids"
      ]
    },
    {
      "cell_type": "code",
      "execution_count": 29,
      "metadata": {
        "colab": {
          "base_uri": "https://localhost:8080/"
        },
        "id": "rN8N6MIhvZlV",
        "outputId": "ae467d09-3758-45b5-aee6-f0f2d87c2e1c"
      },
      "outputs": [
        {
          "name": "stdout",
          "output_type": "stream",
          "text": [
            "Initial Assignment:\n",
            "Cluster 1: ['a', 'b', 'd', 'h']\n",
            "Cluster 2: ['c', 'e', 'f', 'g']\n",
            "\n",
            "New Centroids:\n",
            "Cluster 1 Centroid: [3.25 8.  ]\n",
            "Cluster 2 Centroid: [5.5  3.75]\n"
          ]
        }
      ],
      "source": [
        "def compute_centroid(df, cluster):\n",
        "    return df.loc[cluster].mean().values\n",
        "\n",
        "new_centroid_1 = compute_centroid(df, clusters['Cluster 1'])\n",
        "new_centroid_2 = compute_centroid(df, clusters['Cluster 2'])\n",
        "\n",
        "# Output\n",
        "print(\"Initial Assignment:\")\n",
        "print(\"Cluster 1:\", clusters['Cluster 1'])\n",
        "print(\"Cluster 2:\", clusters['Cluster 2'])\n",
        "print(\"\\nNew Centroids:\")\n",
        "print(\"Cluster 1 Centroid:\", new_centroid_1)\n",
        "print(\"Cluster 2 Centroid:\", new_centroid_2)"
      ]
    },
    {
      "cell_type": "markdown",
      "metadata": {
        "id": "AVIb7N56uV1R"
      },
      "source": [
        "##### (b) Based on the centroids you found above reassign the memberships by using Manhattan distance"
      ]
    },
    {
      "cell_type": "code",
      "execution_count": 31,
      "metadata": {
        "colab": {
          "base_uri": "https://localhost:8080/"
        },
        "id": "hquVwpM2uFhv",
        "outputId": "cccf9438-82d0-4508-c1be-59bcf5b27613"
      },
      "outputs": [
        {
          "name": "stdout",
          "output_type": "stream",
          "text": [
            "Reassigned Clusters based on new centroids:\n",
            "Cluster 1: ['a', 'b', 'd', 'h']\n",
            "Cluster 2: ['c', 'e', 'f', 'g']\n"
          ]
        }
      ],
      "source": [
        "# assign points using updated centroids\n",
        "reassigned_clusters = assign_clusters(df, new_centroid_1, new_centroid_2)\n",
        "\n",
        "# output final clusters\n",
        "print(\"Reassigned Clusters based on new centroids:\")\n",
        "print(\"Cluster 1:\", reassigned_clusters['Cluster 1'])\n",
        "print(\"Cluster 2:\", reassigned_clusters['Cluster 2'])"
      ]
    },
    {
      "cell_type": "markdown",
      "metadata": {
        "id": "8aBakAUHvvlb"
      },
      "source": [
        "#### Question 4\n",
        "Given the distance matrix below answer the following questions. Notice that this is a distance matrix, meaning the\n",
        "distance between any pair of points can be found by checking the corresponding cell them.\n",
        "\n",
        "|   | a | b | c | d | e | f | g |\n",
        "|---|---|---|---|---|---|---|---|\n",
        "| b | 5 |   |   |   |   |   |   |\n",
        "| c | 8 | 6 |   |   |   |   |   |\n",
        "| d | 4 | 4 | 5 |   |   |   |   |\n",
        "| e | 7 | 5 | 1 | 4 |   |   |   |\n",
        "| f | 7 | 4 | 2 | 4 | 1 |   |   |\n",
        "| g | 8 | 3 | 7 | 7 | 7 | 5 |   |\n",
        "| h | 2 | 4 | 6 | 1 | 5 | 5 | 8 |"
      ]
    },
    {
      "cell_type": "markdown",
      "metadata": {
        "id": "JJOttK__v1QT"
      },
      "source": [
        "#### (a) Perform hierarchical clustering using single link measure for the above and draw the final dendrogram."
      ]
    },
    {
      "cell_type": "markdown",
      "metadata": {
        "id": "B2Bf8xq8xE68"
      },
      "source": [
        "##### New imports"
      ]
    },
    {
      "cell_type": "code",
      "execution_count": 32,
      "metadata": {
        "id": "d6aI4Q7Mu6yz"
      },
      "outputs": [],
      "source": [
        "import matplotlib.pyplot as plt\n",
        "from scipy.cluster.hierarchy import linkage, dendrogram"
      ]
    },
    {
      "cell_type": "code",
      "execution_count": 34,
      "metadata": {
        "id": "8eQdW_ukxIzT"
      },
      "outputs": [],
      "source": [
        "# List of point labels\n",
        "labels = ['a', 'b', 'c', 'd', 'e', 'f', 'g', 'h']\n",
        "\n",
        "# condensed distance matrix scipy requirement (upper triangle, row-wise)\n",
        "distances = [\n",
        "    5,\n",
        "    8, 6,\n",
        "    4, 4, 5,\n",
        "    7, 5, 1, 4,\n",
        "    7, 4, 2, 4, 1,\n",
        "    8, 3, 7, 7, 7, 5,\n",
        "    2, 4, 6, 1, 5, 5, 8\n",
        "]\n",
        "\n",
        "# hierarchical clustering with single-link\n",
        "sl_cluster = linkage(distances, method='single')"
      ]
    },
    {
      "cell_type": "markdown",
      "metadata": {
        "id": "3AFGOuUexRz9"
      },
      "source": [
        "##### Plot the dendogram"
      ]
    },
    {
      "cell_type": "code",
      "execution_count": 37,
      "metadata": {
        "colab": {
          "base_uri": "https://localhost:8080/",
          "height": 607
        },
        "id": "FMONOrDbxRNU",
        "outputId": "c086ee56-6eed-41e4-c9e2-6ed38b61d2b9"
      },
      "outputs": [
        {
          "data": {
            "image/png": "[encoded data removed]",
            "text/plain": [
              "<Figure size 1000x600 with 1 Axes>"
            ]
          },
          "metadata": {},
          "output_type": "display_data"
        }
      ],
      "source": [
        "plt.figure(figsize=(10, 6))\n",
        "dendrogram(sl_cluster, labels=labels)\n",
        "plt.title(\"Hierarchical Clustering Dendrogram (Single-Link)\")\n",
        "plt.xlabel(\"Points\")\n",
        "plt.ylabel(\"Distance\")\n",
        "plt.tight_layout()\n",
        "plt.show()"
      ]
    },
    {
      "cell_type": "markdown",
      "metadata": {
        "id": "kK2fqRbLyCKX"
      },
      "source": [
        "#### (b) Determine whether a point is core based on ***ε = 6*** and ***minPts = 2***. (Recall that a point p is a core point if at least ***minPts*** points are within distance ε of it (including p).)"
      ]
    },
    {
      "cell_type": "markdown",
      "metadata": {
        "id": "-HvCFJ3Jyb6V"
      },
      "source": [
        "\n",
        "### Core Point Evaluation (ε = 6, minPts = 2)\n",
        "\n",
        "| Point | Neighbors within ε = 6                    | # Points ≤ 6 | Core? |\n",
        "|-------|-------------------------------------------|--------------|-------|\n",
        "| **a** | b (5), d (4), h (2)                       | 3            |  Yes  |\n",
        "| **b** | a (5), d (4), e (5), f (4), g (3), h (4)  | 6            |  Yes  |\n",
        "| **c** | b (6), e (1), f (2), h (6)                | 4            |  Yes  |\n",
        "| **d** | a (4), b (4), e (4), f (4), h (1)         | 5            |  Yes  |\n",
        "| **e** | b (5), c (1), d (4), f (1), h (5)         | 5            |  Yes  |\n",
        "| **f** | b (4), c (2), d (4), e (1), g (5), h (5)  | 6            |  Yes  |\n",
        "| **g** | b (3), f (5)                              | 2            |  Yes  |\n",
        "| **h** | a (2), b (4), c (6), d (1), e (5), f (5)  | 6            |  Yes  |\n"
      ]
    },
    {
      "cell_type": "code",
      "execution_count": null,
      "metadata": {
        "id": "CNiA7ezNz6hs"
      },
      "outputs": [],
      "source": []
    }
  ],
  "metadata": {
    "colab": {
      "provenance": []
    },
    "kernelspec": {
      "display_name": "Python 3",
      "name": "python3"
    },
    "language_info": {
      "name": "python"
    }
  },
  "nbformat": 4,
  "nbformat_minor": 0
}
