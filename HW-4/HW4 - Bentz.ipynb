{
 "cells": [
  {
   "cell_type": "markdown",
   "id": "bcfafcd0",
   "metadata": {},
   "source": [
    "#### **CSC487 - Advanced Data Mining - HW4**\n",
    "*Cameron Bentz*"
   ]
  },
  {
   "cell_type": "markdown",
   "id": "495b2842",
   "metadata": {},
   "source": [
    "##### **Question 1**\n",
    "\n",
    "| department | age | salary | status | count |\n",
    "| --- | --- | --- | --- | --- |\n",
    "| sales | 31_35 | 46K_50K | senior | 30 |\n",
    "| sales | 26_30 | 26K_30K | junior | 40 |\n",
    "| systems | 21_25 | 46K_50K | junior | 20 |\n",
    "| systems | 31_35 | 66K_70K | senior | 5 |\n",
    "| systems | 26_30 | 46K_50K | junior | 3 |\n",
    "| systems | 41_45 | 66K_70K | senior | 3 |\n",
    "| marketing | 36_40 | 46K_50K | senior | 10 |\n",
    "| marketing | 31_35 | 41K_45K | junior | 4 |\n",
    "| secretary | 46_50 | 36K_40K | senior | 4 |\n",
    "| secretary | 26_30 | 26K_30K | junior | 6 |\n",
    "\n",
    "Given a data tuple having the values \"Systems\", \"26_30\", and \"46K_50K\" for the attributes department, age, and salary, respectively, what would a native Bayesian classification of the status according to the data above? Notice that *Count* column is **NOT** an attribute. It just tells how many times a row occurs in our database and *status* is our target variable. "
   ]
  },
  {
   "cell_type": "markdown",
   "id": "d0248d4a",
   "metadata": {},
   "source": [
    "**Tuple**\n",
    "- **department**: systems\n",
    "- **age**: 26_30\n",
    "- **salary**: 46K_50K\n",
    "\n",
    "Classify **status** as either `junior` or `senior`. \n",
    "\n",
    "Formula: $P(A \\mid B) = \\frac{P(B \\mid A) \\cdot P(A)}{P(B)}$\n",
    "\n",
    "#### Step 1: Get the prior probabilities\n",
    "\n",
    "- **total count:**\n",
    "30 + 40 + 40 + 20 + 5 + 3 + 3 + 10 + 4 + 4 + 6 = 165\n",
    "\n",
    "- **P(junior):**\n",
    "(40 + 40 + 20 + 3 + 4 + 6) / 165 = $\\frac {113} {165}$\n",
    "\n",
    "- **P(senior):**\n",
    "(30 + 5 + 3 + 10 + 4) / 165 = $\\frac {52} {165}$ \n",
    "\n",
    "#### Step 2: Calculate likelihoods\n",
    "\n",
    "##### department = systems\n",
    "\n",
    "- P(department=systems | junior) = $\\frac {20 + 3} {123}$ = $\\frac {23} {123}$\n",
    "\n",
    "- P(department=systems | senior) = $\\frac {5 + 3} {52}$ = $\\frac {8} {52}$\n",
    "\n",
    "##### age = 26_30\n",
    "\n",
    "- P(age=26_30 | junior) = $\\frac {40 + 3 + 6} {113}$ = $\\frac {49} {113}$\n",
    "\n",
    "- P(age=26_30 | senior) = $\\frac {0} {52}$ = 0\n",
    "\n",
    "##### salary = 46K_50K\n",
    "\n",
    "- P(salary=46K_50K | junior) = $\\frac {20} {113}$\n",
    "\n",
    "- P(age=26_30 | junior) = $\\frac {30 + 10} {52}$ = $\\frac {40} {52}$\n",
    "\n",
    "#### Step 3: Bayes calculation\n",
    "\n",
    "- **P(junior | tuple)**\n",
    "\n",
    "$(\\frac {113} {165}) \\cdot (\\frac {23} {113}) \\cdot (\\frac {49} {113}) \\cdot (\\frac {20} {113})$\n",
    "\n",
    "- **P(senior | tuple)**\n",
    "\n",
    "$(\\frac {52} {165}) \\cdot (\\frac {8} {52}) \\cdot 0 \\cdot (\\frac {40} {52})$ = `0`\n",
    "\n",
    "The senior class has a zero probability because there are no seniors with age '26__30'. \n",
    "\n",
    "#### Therefore: The predicted class is `junior`"
   ]
  },
  {
   "cell_type": "markdown",
   "id": "1825bcc0",
   "metadata": {},
   "source": [
    "##### **Question 2**\n",
    "\n",
    "Split your diabetes data into two parts for training and testing purposes. Namely, reserve last 10 rows of the diabetes_train.csv for the test set. Then fit a SVM classifier on the bigger portion of thie data and test it on these 10 rows you had reserved. Please feel free to modify existing codes. Notice that you're not going to read diabetes_test.csv anymore since oyu're going to split the bigger data."
   ]
  },
  {
   "cell_type": "markdown",
   "id": "2e9252ff",
   "metadata": {},
   "source": [
    "##### *imports*"
   ]
  },
  {
   "cell_type": "code",
   "execution_count": 3,
   "id": "eb5e8c16",
   "metadata": {},
   "outputs": [],
   "source": [
    "import pandas as pd\n",
    "import numpy as np\n",
    "from sklearn import svm"
   ]
  },
  {
   "cell_type": "code",
   "execution_count": null,
   "id": "163fd660",
   "metadata": {},
   "outputs": [],
   "source": []
  }
 ],
 "metadata": {
  "kernelspec": {
   "display_name": "Python 3",
   "language": "python",
   "name": "python3"
  },
  "language_info": {
   "codemirror_mode": {
    "name": "ipython",
    "version": 3
   },
   "file_extension": ".py",
   "mimetype": "text/x-python",
   "name": "python",
   "nbconvert_exporter": "python",
   "pygments_lexer": "ipython3",
   "version": "3.13.2"
  }
 },
 "nbformat": 4,
 "nbformat_minor": 5
}
